{
  "nbformat": 4,
  "nbformat_minor": 0,
  "metadata": {
    "colab": {
      "name": "11795680.ipynb",
      "provenance": []
    },
    "kernelspec": {
      "name": "python3",
      "display_name": "Python 3"
    },
    "language_info": {
      "name": "python"
    }
  },
  "cells": [
    {
      "cell_type": "markdown",
      "source": [
        "## SME0828 - Introdução a Ciência de Dados\n",
        "### Entrega 1 - Pré-processamento de dados\n",
        "\n",
        "Aluno: Natan Henrique Sanches (11795680)"
      ],
      "metadata": {
        "id": "txOMS0YzilvA"
      }
    },
    {
      "cell_type": "code",
      "source": [
        "import pandas as pd\n",
        "import numpy as np\n",
        "import matplotlib.pyplot as plt"
      ],
      "metadata": {
        "id": "vpt7WGbrjXHD"
      },
      "execution_count": 42,
      "outputs": []
    },
    {
      "cell_type": "markdown",
      "source": [
        "---\n",
        "#### Exercício 1\n",
        "\n",
        "Leia os dados com erro (iris-with-errors.csv) novamente, faça a limpeza e remova as duas\n",
        "últimas colunas."
      ],
      "metadata": {
        "id": "9PLyvGsPi_PL"
      }
    },
    {
      "cell_type": "code",
      "execution_count": 43,
      "metadata": {
        "id": "uG8r2zTlh1Dz",
        "colab": {
          "base_uri": "https://localhost:8080/",
          "height": 488
        },
        "outputId": "a9256b4d-b0eb-4983-b382-e5a9ce81fbf3"
      },
      "outputs": [
        {
          "output_type": "execute_result",
          "data": {
            "text/plain": [
              "   sepal_length sepal_width  petal_length\n",
              "0           5.1         3.5           1.4\n",
              "3           4.7         3.2           1.3\n",
              "6             5         3.6           1.4\n",
              "7           5.4         3.9           1.7\n",
              "10            5         3.4           1.5\n",
              "11          4.4         2.9           1.4\n",
              "12          4.9         3.1           1.5\n",
              "13          5.4         3.7           1.5\n",
              "15          4.8         3.4           1.6\n",
              "16          4.8           3           1.4\n",
              "18          4.3           3           1.1\n",
              "19          5.8           4           1.2\n",
              "20          5.7         4.4           1.5\n",
              "22          5.1         3.5           1.4"
            ],
            "text/html": [
              "\n",
              "  <div id=\"df-d1e3f572-d8a3-41da-b3b1-ca15ae3982c7\">\n",
              "    <div class=\"colab-df-container\">\n",
              "      <div>\n",
              "<style scoped>\n",
              "    .dataframe tbody tr th:only-of-type {\n",
              "        vertical-align: middle;\n",
              "    }\n",
              "\n",
              "    .dataframe tbody tr th {\n",
              "        vertical-align: top;\n",
              "    }\n",
              "\n",
              "    .dataframe thead th {\n",
              "        text-align: right;\n",
              "    }\n",
              "</style>\n",
              "<table border=\"1\" class=\"dataframe\">\n",
              "  <thead>\n",
              "    <tr style=\"text-align: right;\">\n",
              "      <th></th>\n",
              "      <th>sepal_length</th>\n",
              "      <th>sepal_width</th>\n",
              "      <th>petal_length</th>\n",
              "    </tr>\n",
              "  </thead>\n",
              "  <tbody>\n",
              "    <tr>\n",
              "      <th>0</th>\n",
              "      <td>5.1</td>\n",
              "      <td>3.5</td>\n",
              "      <td>1.4</td>\n",
              "    </tr>\n",
              "    <tr>\n",
              "      <th>3</th>\n",
              "      <td>4.7</td>\n",
              "      <td>3.2</td>\n",
              "      <td>1.3</td>\n",
              "    </tr>\n",
              "    <tr>\n",
              "      <th>6</th>\n",
              "      <td>5</td>\n",
              "      <td>3.6</td>\n",
              "      <td>1.4</td>\n",
              "    </tr>\n",
              "    <tr>\n",
              "      <th>7</th>\n",
              "      <td>5.4</td>\n",
              "      <td>3.9</td>\n",
              "      <td>1.7</td>\n",
              "    </tr>\n",
              "    <tr>\n",
              "      <th>10</th>\n",
              "      <td>5</td>\n",
              "      <td>3.4</td>\n",
              "      <td>1.5</td>\n",
              "    </tr>\n",
              "    <tr>\n",
              "      <th>11</th>\n",
              "      <td>4.4</td>\n",
              "      <td>2.9</td>\n",
              "      <td>1.4</td>\n",
              "    </tr>\n",
              "    <tr>\n",
              "      <th>12</th>\n",
              "      <td>4.9</td>\n",
              "      <td>3.1</td>\n",
              "      <td>1.5</td>\n",
              "    </tr>\n",
              "    <tr>\n",
              "      <th>13</th>\n",
              "      <td>5.4</td>\n",
              "      <td>3.7</td>\n",
              "      <td>1.5</td>\n",
              "    </tr>\n",
              "    <tr>\n",
              "      <th>15</th>\n",
              "      <td>4.8</td>\n",
              "      <td>3.4</td>\n",
              "      <td>1.6</td>\n",
              "    </tr>\n",
              "    <tr>\n",
              "      <th>16</th>\n",
              "      <td>4.8</td>\n",
              "      <td>3</td>\n",
              "      <td>1.4</td>\n",
              "    </tr>\n",
              "    <tr>\n",
              "      <th>18</th>\n",
              "      <td>4.3</td>\n",
              "      <td>3</td>\n",
              "      <td>1.1</td>\n",
              "    </tr>\n",
              "    <tr>\n",
              "      <th>19</th>\n",
              "      <td>5.8</td>\n",
              "      <td>4</td>\n",
              "      <td>1.2</td>\n",
              "    </tr>\n",
              "    <tr>\n",
              "      <th>20</th>\n",
              "      <td>5.7</td>\n",
              "      <td>4.4</td>\n",
              "      <td>1.5</td>\n",
              "    </tr>\n",
              "    <tr>\n",
              "      <th>22</th>\n",
              "      <td>5.1</td>\n",
              "      <td>3.5</td>\n",
              "      <td>1.4</td>\n",
              "    </tr>\n",
              "  </tbody>\n",
              "</table>\n",
              "</div>\n",
              "      <button class=\"colab-df-convert\" onclick=\"convertToInteractive('df-d1e3f572-d8a3-41da-b3b1-ca15ae3982c7')\"\n",
              "              title=\"Convert this dataframe to an interactive table.\"\n",
              "              style=\"display:none;\">\n",
              "        \n",
              "  <svg xmlns=\"http://www.w3.org/2000/svg\" height=\"24px\"viewBox=\"0 0 24 24\"\n",
              "       width=\"24px\">\n",
              "    <path d=\"M0 0h24v24H0V0z\" fill=\"none\"/>\n",
              "    <path d=\"M18.56 5.44l.94 2.06.94-2.06 2.06-.94-2.06-.94-.94-2.06-.94 2.06-2.06.94zm-11 1L8.5 8.5l.94-2.06 2.06-.94-2.06-.94L8.5 2.5l-.94 2.06-2.06.94zm10 10l.94 2.06.94-2.06 2.06-.94-2.06-.94-.94-2.06-.94 2.06-2.06.94z\"/><path d=\"M17.41 7.96l-1.37-1.37c-.4-.4-.92-.59-1.43-.59-.52 0-1.04.2-1.43.59L10.3 9.45l-7.72 7.72c-.78.78-.78 2.05 0 2.83L4 21.41c.39.39.9.59 1.41.59.51 0 1.02-.2 1.41-.59l7.78-7.78 2.81-2.81c.8-.78.8-2.07 0-2.86zM5.41 20L4 18.59l7.72-7.72 1.47 1.35L5.41 20z\"/>\n",
              "  </svg>\n",
              "      </button>\n",
              "      \n",
              "  <style>\n",
              "    .colab-df-container {\n",
              "      display:flex;\n",
              "      flex-wrap:wrap;\n",
              "      gap: 12px;\n",
              "    }\n",
              "\n",
              "    .colab-df-convert {\n",
              "      background-color: #E8F0FE;\n",
              "      border: none;\n",
              "      border-radius: 50%;\n",
              "      cursor: pointer;\n",
              "      display: none;\n",
              "      fill: #1967D2;\n",
              "      height: 32px;\n",
              "      padding: 0 0 0 0;\n",
              "      width: 32px;\n",
              "    }\n",
              "\n",
              "    .colab-df-convert:hover {\n",
              "      background-color: #E2EBFA;\n",
              "      box-shadow: 0px 1px 2px rgba(60, 64, 67, 0.3), 0px 1px 3px 1px rgba(60, 64, 67, 0.15);\n",
              "      fill: #174EA6;\n",
              "    }\n",
              "\n",
              "    [theme=dark] .colab-df-convert {\n",
              "      background-color: #3B4455;\n",
              "      fill: #D2E3FC;\n",
              "    }\n",
              "\n",
              "    [theme=dark] .colab-df-convert:hover {\n",
              "      background-color: #434B5C;\n",
              "      box-shadow: 0px 1px 3px 1px rgba(0, 0, 0, 0.15);\n",
              "      filter: drop-shadow(0px 1px 2px rgba(0, 0, 0, 0.3));\n",
              "      fill: #FFFFFF;\n",
              "    }\n",
              "  </style>\n",
              "\n",
              "      <script>\n",
              "        const buttonEl =\n",
              "          document.querySelector('#df-d1e3f572-d8a3-41da-b3b1-ca15ae3982c7 button.colab-df-convert');\n",
              "        buttonEl.style.display =\n",
              "          google.colab.kernel.accessAllowed ? 'block' : 'none';\n",
              "\n",
              "        async function convertToInteractive(key) {\n",
              "          const element = document.querySelector('#df-d1e3f572-d8a3-41da-b3b1-ca15ae3982c7');\n",
              "          const dataTable =\n",
              "            await google.colab.kernel.invokeFunction('convertToInteractive',\n",
              "                                                     [key], {});\n",
              "          if (!dataTable) return;\n",
              "\n",
              "          const docLinkHtml = 'Like what you see? Visit the ' +\n",
              "            '<a target=\"_blank\" href=https://colab.research.google.com/notebooks/data_table.ipynb>data table notebook</a>'\n",
              "            + ' to learn more about interactive tables.';\n",
              "          element.innerHTML = '';\n",
              "          dataTable['output_type'] = 'display_data';\n",
              "          await google.colab.output.renderOutput(dataTable, element);\n",
              "          const docLink = document.createElement('div');\n",
              "          docLink.innerHTML = docLinkHtml;\n",
              "          element.appendChild(docLink);\n",
              "        }\n",
              "      </script>\n",
              "    </div>\n",
              "  </div>\n",
              "  "
            ]
          },
          "metadata": {},
          "execution_count": 43
        }
      ],
      "source": [
        "data = pd.read_csv('drive/MyDrive/data/iris-with-errors.csv', header=(0))\n",
        "\n",
        "data = data.replace('?', np.nan).dropna().drop_duplicates()\n",
        "data = data.drop(data.columns[[data.shape[1]-1, data.shape[1]-2]], axis=1)\n",
        "data.head(25)"
      ]
    },
    {
      "cell_type": "markdown",
      "source": [
        "---\n",
        "#### Exercício 2\n",
        "\n",
        "Leia os dados com erro novamente e insira a mediana de cada atributo onde for encontrada\n",
        "NaN."
      ],
      "metadata": {
        "id": "QobbRfimkpnl"
      }
    },
    {
      "cell_type": "code",
      "source": [
        "data = pd.read_csv('drive/MyDrive/data/iris-with-errors.csv', header=(0))\n",
        "data = data.replace('?', np.nan)\n",
        "X = np.array( data[data.columns[0:data.shape[1]-1]], dtype=float )\n",
        "\n",
        "for i in np.arange(0, X.shape[0]):\n",
        "    for j in np.arange(0, X.shape[1]):\n",
        "        if (np.isnan(X[i,j]) == True):\n",
        "            X[i,j] = np.nanmedian(X[i,:], axis=0)\n",
        "\n",
        "print(X)"
      ],
      "metadata": {
        "id": "AwI00LsFkvpt",
        "colab": {
          "base_uri": "https://localhost:8080/"
        },
        "outputId": "0b8c0e9a-9855-48ef-b5f8-1e6dcddb4bf6"
      },
      "execution_count": 44,
      "outputs": [
        {
          "output_type": "stream",
          "name": "stdout",
          "text": [
            "[[5.1 3.5 1.4 0.2]\n",
            " [5.1 3.5 1.4 0.2]\n",
            " [1.4 3.  1.4 0.2]\n",
            " [4.7 3.2 1.3 0.2]\n",
            " [5.1 3.5 1.4 0.2]\n",
            " [1.5 3.1 1.5 0.2]\n",
            " [5.  3.6 1.4 0.2]\n",
            " [5.4 3.9 1.7 0.4]\n",
            " [5.4 3.9 1.7 0.4]\n",
            " [4.6 3.4 1.4 3.4]\n",
            " [5.  3.4 1.5 0.2]\n",
            " [4.4 2.9 1.4 0.2]\n",
            " [4.9 3.1 1.5 0.1]\n",
            " [5.4 3.7 1.5 0.2]\n",
            " [4.4 2.9 1.4 0.2]\n",
            " [4.8 3.4 1.6 0.2]\n",
            " [4.8 3.  1.4 0.1]\n",
            " [4.4 2.9 1.4 0.2]\n",
            " [4.3 3.  1.1 0.1]\n",
            " [5.8 4.  1.2 0.2]\n",
            " [5.7 4.4 1.5 0.4]\n",
            " [5.4 3.9 1.3 3.9]\n",
            " [5.1 3.5 1.4 0.3]\n",
            " [5.7 1.7 1.7 0.3]\n",
            " [1.5 3.8 1.5 0.3]]\n"
          ]
        }
      ]
    },
    {
      "cell_type": "markdown",
      "source": [
        "---\n",
        "\n",
        "#### Exercício 3\n",
        "\n",
        "Conside os dados da Iris e mostre a distribuição de probabilidades de cada uma das variáveis\n",
        "após a normalização e padronização."
      ],
      "metadata": {
        "id": "0hJ36eUVoFoR"
      }
    },
    {
      "cell_type": "code",
      "source": [
        "def show_mean_stddev(X):\n",
        "    for i in np.arange(X.shape[1]):\n",
        "        print(f'Mean\\t\\t(column {i}): {np.round_(np.mean(X[:,i]), decimals=3)}')\n",
        "        print(f'Standard Dev.\\t(column {i}): {np.round_(np.std(X[:,i]), decimals=3)}',\n",
        "              end='\\n\\n')"
      ],
      "metadata": {
        "id": "zSv7gdHbyJC1"
      },
      "execution_count": 39,
      "outputs": []
    },
    {
      "cell_type": "code",
      "source": [
        "data = pd.read_csv('drive/MyDrive/data/iris.csv')\n",
        "X = np.array(data[data.columns[0:data.shape[1]-1]], dtype=float)"
      ],
      "metadata": {
        "id": "pWHm9MIgoSAQ"
      },
      "execution_count": null,
      "outputs": []
    },
    {
      "cell_type": "code",
      "source": [
        "from sklearn.preprocessing import MinMaxScaler\n",
        "\n",
        "mm_scaler = MinMaxScaler(feature_range=(0,1))\n",
        "X_norm = mm_scaler.fit_transform(X)\n",
        "\n",
        "show_mean_stddev(X_norm)\n",
        "X_norm"
      ],
      "metadata": {
        "colab": {
          "base_uri": "https://localhost:8080/"
        },
        "id": "5UWiYzE5xf_v",
        "outputId": "50d3c9d5-431a-4a9f-810a-d79bf6a896a7"
      },
      "execution_count": 40,
      "outputs": [
        {
          "output_type": "stream",
          "name": "stdout",
          "text": [
            "Mean\t\t(column 0): 0.726\n",
            "Standard Dev.\t(column 0): 0.279\n",
            "\n",
            "Mean\t\t(column 1): 0.618\n",
            "Standard Dev.\t(column 1): 0.193\n",
            "\n",
            "Mean\t\t(column 2): 0.567\n",
            "Standard Dev.\t(column 2): 0.231\n",
            "\n",
            "Mean\t\t(column 3): 0.105\n",
            "Standard Dev.\t(column 3): 0.246\n",
            "\n"
          ]
        },
        {
          "output_type": "execute_result",
          "data": {
            "text/plain": [
              "array([[0.84090909, 0.66666667, 0.5       , 0.02631579],\n",
              "       [0.84090909, 0.66666667, 0.5       , 0.02631579],\n",
              "       [0.        , 0.48148148, 0.5       , 0.02631579],\n",
              "       [0.75      , 0.55555556, 0.33333333, 0.02631579],\n",
              "       [0.84090909, 0.66666667, 0.5       , 0.02631579],\n",
              "       [0.02272727, 0.51851852, 0.66666667, 0.02631579],\n",
              "       [0.81818182, 0.7037037 , 0.5       , 0.02631579],\n",
              "       [0.90909091, 0.81481481, 1.        , 0.07894737],\n",
              "       [0.90909091, 0.81481481, 1.        , 0.07894737],\n",
              "       [0.72727273, 0.62962963, 0.5       , 0.86842105],\n",
              "       [0.81818182, 0.62962963, 0.66666667, 0.02631579],\n",
              "       [0.68181818, 0.44444444, 0.5       , 0.02631579],\n",
              "       [0.79545455, 0.51851852, 0.66666667, 0.        ],\n",
              "       [0.90909091, 0.74074074, 0.66666667, 0.02631579],\n",
              "       [0.68181818, 0.44444444, 0.5       , 0.02631579],\n",
              "       [0.77272727, 0.62962963, 0.83333333, 0.02631579],\n",
              "       [0.77272727, 0.48148148, 0.5       , 0.        ],\n",
              "       [0.68181818, 0.44444444, 0.5       , 0.02631579],\n",
              "       [0.65909091, 0.48148148, 0.        , 0.        ],\n",
              "       [1.        , 0.85185185, 0.16666667, 0.02631579],\n",
              "       [0.97727273, 1.        , 0.66666667, 0.07894737],\n",
              "       [0.90909091, 0.81481481, 0.33333333, 1.        ],\n",
              "       [0.84090909, 0.66666667, 0.5       , 0.05263158],\n",
              "       [0.97727273, 0.        , 1.        , 0.05263158],\n",
              "       [0.02272727, 0.77777778, 0.66666667, 0.05263158]])"
            ]
          },
          "metadata": {},
          "execution_count": 40
        }
      ]
    },
    {
      "cell_type": "code",
      "source": [
        "from sklearn.preprocessing import StandardScaler\n",
        "\n",
        "std_scaler = StandardScaler().fit(X)\n",
        "X_std = std_scaler.transform(X)\n",
        "\n",
        "show_mean_stddev(X_std)\n",
        "X_std"
      ],
      "metadata": {
        "colab": {
          "base_uri": "https://localhost:8080/"
        },
        "id": "JoV0U4pvxzSu",
        "outputId": "01de6dd8-0aab-4056-b17e-02bf2f0e82f4"
      },
      "execution_count": 41,
      "outputs": [
        {
          "output_type": "stream",
          "name": "stdout",
          "text": [
            "Mean\t\t(column 0): -0.0\n",
            "Standard Dev.\t(column 0): 1.0\n",
            "\n",
            "Mean\t\t(column 1): -0.0\n",
            "Standard Dev.\t(column 1): 1.0\n",
            "\n",
            "Mean\t\t(column 2): 0.0\n",
            "Standard Dev.\t(column 2): 1.0\n",
            "\n",
            "Mean\t\t(column 3): -0.0\n",
            "Standard Dev.\t(column 3): 1.0\n",
            "\n"
          ]
        },
        {
          "output_type": "execute_result",
          "data": {
            "text/plain": [
              "array([[ 4.11023534e-01,  2.53951363e-01, -2.88675135e-01,\n",
              "        -3.20823506e-01],\n",
              "       [ 4.11023534e-01,  2.53951363e-01, -2.88675135e-01,\n",
              "        -3.20823506e-01],\n",
              "       [-2.60641114e+00, -7.07985617e-01, -2.88675135e-01,\n",
              "        -3.20823506e-01],\n",
              "       [ 8.48143800e-02, -3.23210825e-01, -1.01036297e+00,\n",
              "        -3.20823506e-01],\n",
              "       [ 4.11023534e-01,  2.53951363e-01, -2.88675135e-01,\n",
              "        -3.20823506e-01],\n",
              "       [-2.52485885e+00, -5.15598221e-01,  4.33012702e-01,\n",
              "        -3.20823506e-01],\n",
              "       [ 3.29471245e-01,  4.46338758e-01, -2.88675135e-01,\n",
              "        -3.20823506e-01],\n",
              "       [ 6.55680399e-01,  1.02350095e+00,  1.87638837e+00,\n",
              "        -1.06941169e-01],\n",
              "       [ 6.55680399e-01,  1.02350095e+00,  1.87638837e+00,\n",
              "        -1.06941169e-01],\n",
              "       [ 3.26209154e-03,  6.15639667e-02, -2.88675135e-01,\n",
              "         3.10129389e+00],\n",
              "       [ 3.29471245e-01,  6.15639667e-02,  4.33012702e-01,\n",
              "        -3.20823506e-01],\n",
              "       [-1.59842485e-01, -9.00373013e-01, -2.88675135e-01,\n",
              "        -3.20823506e-01],\n",
              "       [ 2.47918957e-01, -5.15598221e-01,  4.33012702e-01,\n",
              "        -4.27764674e-01],\n",
              "       [ 6.55680399e-01,  6.38726154e-01,  4.33012702e-01,\n",
              "        -3.20823506e-01],\n",
              "       [-1.59842485e-01, -9.00373013e-01, -2.88675135e-01,\n",
              "        -3.20823506e-01],\n",
              "       [ 1.66366668e-01,  6.15639667e-02,  1.15470054e+00,\n",
              "        -3.20823506e-01],\n",
              "       [ 1.66366668e-01, -7.07985617e-01, -2.88675135e-01,\n",
              "        -4.27764674e-01],\n",
              "       [-1.59842485e-01, -9.00373013e-01, -2.88675135e-01,\n",
              "        -3.20823506e-01],\n",
              "       [-2.41394774e-01, -7.07985617e-01, -2.45373864e+00,\n",
              "        -4.27764674e-01],\n",
              "       [ 9.81889553e-01,  1.21588834e+00, -1.73205081e+00,\n",
              "        -3.20823506e-01],\n",
              "       [ 9.00337264e-01,  1.98543793e+00,  4.33012702e-01,\n",
              "        -1.06941169e-01],\n",
              "       [ 6.55680399e-01,  1.02350095e+00, -1.01036297e+00,\n",
              "         3.63599973e+00],\n",
              "       [ 4.11023534e-01,  2.53951363e-01, -2.88675135e-01,\n",
              "        -2.13882337e-01],\n",
              "       [ 9.00337264e-01, -3.20902176e+00,  1.87638837e+00,\n",
              "        -2.13882337e-01],\n",
              "       [-2.52485885e+00,  8.31113550e-01,  4.33012702e-01,\n",
              "        -2.13882337e-01]])"
            ]
          },
          "metadata": {},
          "execution_count": 41
        }
      ]
    },
    {
      "cell_type": "markdown",
      "source": [
        "---\n",
        "\n",
        "#### Exercício 4\n",
        "\n",
        "Reamostre os dados da Iris e selecione 10 elementos em cada classe."
      ],
      "metadata": {
        "id": "1tBgd1HKpaD4"
      }
    },
    {
      "cell_type": "code",
      "source": [
        "data = pd.read_csv('drive/MyDrive/data/iris.csv', header=(0))\n",
        "\n",
        "X = np.array(data)\n",
        "X_sampled = []\n",
        "\n",
        "distinct_classes = np.unique(data[data.columns[-1]])\n",
        "labeled_classes = np.array(data[data.columns[-1]])\n",
        "\n",
        "for i in np.arange(distinct_classes.shape[0]):\n",
        "    labeled_rows = np.argwhere(labeled_classes == distinct_classes[i])\n",
        "    sample = np.random.choice(labeled_rows[:,0], 10, replace=False)\n",
        "    X_sampled.append(X[sample, :])\n",
        "\n",
        "X_sampled = np.array(X_sampled)\n",
        "X_sampled"
      ],
      "metadata": {
        "id": "XHQHCZcPpe77",
        "colab": {
          "base_uri": "https://localhost:8080/"
        },
        "outputId": "12b68f30-6f25-48af-d413-d2f59e2102bb"
      },
      "execution_count": 10,
      "outputs": [
        {
          "output_type": "execute_result",
          "data": {
            "text/plain": [
              "array([[[4.6, 3.1, 1.5, 0.2, 'setosa'],\n",
              "        [4.7, 3.2, 1.6, 0.2, 'setosa'],\n",
              "        [4.9, 3.0, 1.4, 0.2, 'setosa'],\n",
              "        [4.4, 3.2, 1.3, 0.2, 'setosa'],\n",
              "        [4.6, 3.2, 1.4, 0.2, 'setosa'],\n",
              "        [4.8, 3.1, 1.6, 0.2, 'setosa'],\n",
              "        [5.4, 3.9, 1.7, 0.4, 'setosa'],\n",
              "        [4.8, 3.4, 1.9, 0.2, 'setosa'],\n",
              "        [4.4, 2.9, 1.4, 0.2, 'setosa'],\n",
              "        [4.9, 3.1, 1.5, 0.1, 'setosa']],\n",
              "\n",
              "       [[5.9, 3.2, 4.8, 1.8, 'versicolor'],\n",
              "        [6.7, 3.0, 5.0, 1.7, 'versicolor'],\n",
              "        [6.2, 2.2, 4.5, 1.5, 'versicolor'],\n",
              "        [5.5, 2.6, 4.4, 1.2, 'versicolor'],\n",
              "        [4.9, 2.4, 3.3, 1.0, 'versicolor'],\n",
              "        [5.5, 2.4, 3.7, 1.0, 'versicolor'],\n",
              "        [6.7, 3.1, 4.4, 1.4, 'versicolor'],\n",
              "        [6.0, 2.2, 4.0, 1.0, 'versicolor'],\n",
              "        [5.7, 2.8, 4.1, 1.3, 'versicolor'],\n",
              "        [5.5, 2.5, 4.0, 1.3, 'versicolor']],\n",
              "\n",
              "       [[4.9, 2.5, 4.5, 1.7, 'virginica'],\n",
              "        [5.8, 2.7, 5.1, 1.9, 'virginica'],\n",
              "        [7.4, 2.8, 6.1, 1.9, 'virginica'],\n",
              "        [6.7, 3.3, 5.7, 2.1, 'virginica'],\n",
              "        [7.9, 3.8, 6.4, 2.0, 'virginica'],\n",
              "        [6.3, 2.5, 5.0, 1.9, 'virginica'],\n",
              "        [6.1, 3.0, 4.9, 1.8, 'virginica'],\n",
              "        [7.1, 3.0, 5.9, 2.1, 'virginica'],\n",
              "        [7.2, 3.2, 6.0, 1.8, 'virginica'],\n",
              "        [5.8, 2.8, 5.1, 2.4, 'virginica']]], dtype=object)"
            ]
          },
          "metadata": {},
          "execution_count": 10
        }
      ]
    },
    {
      "cell_type": "markdown",
      "source": [
        "---\n",
        "\n",
        "#### Exercício 5\n",
        "\n",
        "Monte um boxplot para cada variável dos dados da Iris."
      ],
      "metadata": {
        "id": "O1vcdANJsjDf"
      }
    },
    {
      "cell_type": "code",
      "source": [
        "import seaborn as sns\n",
        "\n",
        "data = pd.read_csv('drive/MyDrive/data/iris.csv', header=(0))\n",
        "\n",
        "for col in data.columns:\n",
        "    if col != 'species':\n",
        "        fig = plt.figure()\n",
        "        plt.figure(figsize=(6,6))\n",
        "        plt.xticks(fontsize=12)\n",
        "        plt.yticks(fontsize=12)\n",
        "        \n",
        "        sns.boxplot(x='species', y=col, data=data)"
      ],
      "metadata": {
        "id": "Lh6qabkjsrR-",
        "colab": {
          "base_uri": "https://localhost:8080/",
          "height": 1000
        },
        "outputId": "43b88680-7a4d-468b-8ab6-75c8bbe7a153"
      },
      "execution_count": 9,
      "outputs": [
        {
          "output_type": "display_data",
          "data": {
            "text/plain": [
              "<Figure size 432x288 with 0 Axes>"
            ]
          },
          "metadata": {}
        },
        {
          "output_type": "display_data",
          "data": {
            "text/plain": [
              "<Figure size 432x432 with 1 Axes>"
            ],
            "image/png": "[encoded data removed]"
          },
          "metadata": {
            "needs_background": "light"
          }
        },
        {
          "output_type": "display_data",
          "data": {
            "text/plain": [
              "<Figure size 432x288 with 0 Axes>"
            ]
          },
          "metadata": {}
        },
        {
          "output_type": "display_data",
          "data": {
            "text/plain": [
              "<Figure size 432x432 with 1 Axes>"
            ],
            "image/png": "[encoded data removed]"
          },
          "metadata": {
            "needs_background": "light"
          }
        },
        {
          "output_type": "display_data",
          "data": {
            "text/plain": [
              "<Figure size 432x288 with 0 Axes>"
            ]
          },
          "metadata": {}
        },
        {
          "output_type": "display_data",
          "data": {
            "text/plain": [
              "<Figure size 432x432 with 1 Axes>"
            ],
            "image/png": "[encoded data removed]"
          },
          "metadata": {
            "needs_background": "light"
          }
        },
        {
          "output_type": "display_data",
          "data": {
            "text/plain": [
              "<Figure size 432x288 with 0 Axes>"
            ]
          },
          "metadata": {}
        },
        {
          "output_type": "display_data",
          "data": {
            "text/plain": [
              "<Figure size 432x432 with 1 Axes>"
            ],
            "image/png": "[encoded data removed]"
          },
          "metadata": {
            "needs_background": "light"
          }
        }
      ]
    },
    {
      "cell_type": "markdown",
      "source": [
        "---\n",
        "\n",
        "#### Exercício 6\n",
        "\n",
        "Encontre os outliers nos dados das bases Iris e BostonHouse."
      ],
      "metadata": {
        "id": "20Z54NWJvXIG"
      }
    },
    {
      "cell_type": "code",
      "source": [
        "def find_outliers(data):\n",
        "    Q1 = data.quantile(0.25)\n",
        "    Q3 = data.quantile(0.75)\n",
        "    IQR = Q3-Q1\n",
        "\n",
        "    outliers = ((data < (Q1 - 1.5*IQR)) | (data > (Q3 + 1.5*IQR))).any(axis=1)\n",
        "    return data.drop(data.index[list(np.invert(outliers))], axis=0)"
      ],
      "metadata": {
        "id": "iWrYlY6lp9l5"
      },
      "execution_count": 6,
      "outputs": []
    },
    {
      "cell_type": "code",
      "source": [
        "iris = pd.read_csv('drive/MyDrive/data/iris.csv', header=(0))\n",
        "find_outliers(iris).head(10)"
      ],
      "metadata": {
        "colab": {
          "base_uri": "https://localhost:8080/",
          "height": 230
        },
        "id": "5_uGZgKLs87m",
        "outputId": "13a962fe-a3e2-4ee7-c390-8cdaa8930979"
      },
      "execution_count": 7,
      "outputs": [
        {
          "output_type": "stream",
          "name": "stderr",
          "text": [
            "/usr/local/lib/python3.7/dist-packages/ipykernel_launcher.py:6: FutureWarning: Automatic reindexing on DataFrame vs Series comparisons is deprecated and will raise ValueError in a future version.  Do `left, right = left.align(right, axis=1, copy=False)` before e.g. `left == right`\n",
            "  \n"
          ]
        },
        {
          "output_type": "execute_result",
          "data": {
            "text/plain": [
              "    sepal_length  sepal_width  petal_length  petal_width     species\n",
              "15           5.7          4.4           1.5          0.4      setosa\n",
              "32           5.2          4.1           1.5          0.1      setosa\n",
              "33           5.5          4.2           1.4          0.2      setosa\n",
              "60           5.0          2.0           3.5          1.0  versicolor"
            ],
            "text/html": [
              "\n",
              "  <div id=\"df-2a1b2da7-23dd-420a-a336-842e4e80070c\">\n",
              "    <div class=\"colab-df-container\">\n",
              "      <div>\n",
              "<style scoped>\n",
              "    .dataframe tbody tr th:only-of-type {\n",
              "        vertical-align: middle;\n",
              "    }\n",
              "\n",
              "    .dataframe tbody tr th {\n",
              "        vertical-align: top;\n",
              "    }\n",
              "\n",
              "    .dataframe thead th {\n",
              "        text-align: right;\n",
              "    }\n",
              "</style>\n",
              "<table border=\"1\" class=\"dataframe\">\n",
              "  <thead>\n",
              "    <tr style=\"text-align: right;\">\n",
              "      <th></th>\n",
              "      <th>sepal_length</th>\n",
              "      <th>sepal_width</th>\n",
              "      <th>petal_length</th>\n",
              "      <th>petal_width</th>\n",
              "      <th>species</th>\n",
              "    </tr>\n",
              "  </thead>\n",
              "  <tbody>\n",
              "    <tr>\n",
              "      <th>15</th>\n",
              "      <td>5.7</td>\n",
              "      <td>4.4</td>\n",
              "      <td>1.5</td>\n",
              "      <td>0.4</td>\n",
              "      <td>setosa</td>\n",
              "    </tr>\n",
              "    <tr>\n",
              "      <th>32</th>\n",
              "      <td>5.2</td>\n",
              "      <td>4.1</td>\n",
              "      <td>1.5</td>\n",
              "      <td>0.1</td>\n",
              "      <td>setosa</td>\n",
              "    </tr>\n",
              "    <tr>\n",
              "      <th>33</th>\n",
              "      <td>5.5</td>\n",
              "      <td>4.2</td>\n",
              "      <td>1.4</td>\n",
              "      <td>0.2</td>\n",
              "      <td>setosa</td>\n",
              "    </tr>\n",
              "    <tr>\n",
              "      <th>60</th>\n",
              "      <td>5.0</td>\n",
              "      <td>2.0</td>\n",
              "      <td>3.5</td>\n",
              "      <td>1.0</td>\n",
              "      <td>versicolor</td>\n",
              "    </tr>\n",
              "  </tbody>\n",
              "</table>\n",
              "</div>\n",
              "      <button class=\"colab-df-convert\" onclick=\"convertToInteractive('df-2a1b2da7-23dd-420a-a336-842e4e80070c')\"\n",
              "              title=\"Convert this dataframe to an interactive table.\"\n",
              "              style=\"display:none;\">\n",
              "        \n",
              "  <svg xmlns=\"http://www.w3.org/2000/svg\" height=\"24px\"viewBox=\"0 0 24 24\"\n",
              "       width=\"24px\">\n",
              "    <path d=\"M0 0h24v24H0V0z\" fill=\"none\"/>\n",
              "    <path d=\"M18.56 5.44l.94 2.06.94-2.06 2.06-.94-2.06-.94-.94-2.06-.94 2.06-2.06.94zm-11 1L8.5 8.5l.94-2.06 2.06-.94-2.06-.94L8.5 2.5l-.94 2.06-2.06.94zm10 10l.94 2.06.94-2.06 2.06-.94-2.06-.94-.94-2.06-.94 2.06-2.06.94z\"/><path d=\"M17.41 7.96l-1.37-1.37c-.4-.4-.92-.59-1.43-.59-.52 0-1.04.2-1.43.59L10.3 9.45l-7.72 7.72c-.78.78-.78 2.05 0 2.83L4 21.41c.39.39.9.59 1.41.59.51 0 1.02-.2 1.41-.59l7.78-7.78 2.81-2.81c.8-.78.8-2.07 0-2.86zM5.41 20L4 18.59l7.72-7.72 1.47 1.35L5.41 20z\"/>\n",
              "  </svg>\n",
              "      </button>\n",
              "      \n",
              "  <style>\n",
              "    .colab-df-container {\n",
              "      display:flex;\n",
              "      flex-wrap:wrap;\n",
              "      gap: 12px;\n",
              "    }\n",
              "\n",
              "    .colab-df-convert {\n",
              "      background-color: #E8F0FE;\n",
              "      border: none;\n",
              "      border-radius: 50%;\n",
              "      cursor: pointer;\n",
              "      display: none;\n",
              "      fill: #1967D2;\n",
              "      height: 32px;\n",
              "      padding: 0 0 0 0;\n",
              "      width: 32px;\n",
              "    }\n",
              "\n",
              "    .colab-df-convert:hover {\n",
              "      background-color: #E2EBFA;\n",
              "      box-shadow: 0px 1px 2px rgba(60, 64, 67, 0.3), 0px 1px 3px 1px rgba(60, 64, 67, 0.15);\n",
              "      fill: #174EA6;\n",
              "    }\n",
              "\n",
              "    [theme=dark] .colab-df-convert {\n",
              "      background-color: #3B4455;\n",
              "      fill: #D2E3FC;\n",
              "    }\n",
              "\n",
              "    [theme=dark] .colab-df-convert:hover {\n",
              "      background-color: #434B5C;\n",
              "      box-shadow: 0px 1px 3px 1px rgba(0, 0, 0, 0.15);\n",
              "      filter: drop-shadow(0px 1px 2px rgba(0, 0, 0, 0.3));\n",
              "      fill: #FFFFFF;\n",
              "    }\n",
              "  </style>\n",
              "\n",
              "      <script>\n",
              "        const buttonEl =\n",
              "          document.querySelector('#df-2a1b2da7-23dd-420a-a336-842e4e80070c button.colab-df-convert');\n",
              "        buttonEl.style.display =\n",
              "          google.colab.kernel.accessAllowed ? 'block' : 'none';\n",
              "\n",
              "        async function convertToInteractive(key) {\n",
              "          const element = document.querySelector('#df-2a1b2da7-23dd-420a-a336-842e4e80070c');\n",
              "          const dataTable =\n",
              "            await google.colab.kernel.invokeFunction('convertToInteractive',\n",
              "                                                     [key], {});\n",
              "          if (!dataTable) return;\n",
              "\n",
              "          const docLinkHtml = 'Like what you see? Visit the ' +\n",
              "            '<a target=\"_blank\" href=https://colab.research.google.com/notebooks/data_table.ipynb>data table notebook</a>'\n",
              "            + ' to learn more about interactive tables.';\n",
              "          element.innerHTML = '';\n",
              "          dataTable['output_type'] = 'display_data';\n",
              "          await google.colab.output.renderOutput(dataTable, element);\n",
              "          const docLink = document.createElement('div');\n",
              "          docLink.innerHTML = docLinkHtml;\n",
              "          element.appendChild(docLink);\n",
              "        }\n",
              "      </script>\n",
              "    </div>\n",
              "  </div>\n",
              "  "
            ]
          },
          "metadata": {},
          "execution_count": 7
        }
      ]
    },
    {
      "cell_type": "code",
      "source": [
        "boston = pd.read_csv('drive/MyDrive/data/BostonHousing.csv', header=(0))\n",
        "find_outliers(boston).head(10)"
      ],
      "metadata": {
        "colab": {
          "base_uri": "https://localhost:8080/",
          "height": 363
        },
        "id": "FmDd3OI-s8yS",
        "outputId": "5db068d2-b2ef-49ac-c850-01d1a50a2132"
      },
      "execution_count": 8,
      "outputs": [
        {
          "output_type": "execute_result",
          "data": {
            "text/plain": [
              "       crim    zn  indus  chas    nox     rm   age     dis  rad  tax  ptratio  \\\n",
              "18  0.80271   0.0   8.14     0  0.538  5.456  36.6  3.7965    4  307     21.0   \n",
              "25  0.84054   0.0   8.14     0  0.538  5.599  85.7  4.4546    4  307     21.0   \n",
              "27  0.95577   0.0   8.14     0  0.538  6.047  88.8  4.4534    4  307     21.0   \n",
              "32  1.38799   0.0   8.14     0  0.538  5.950  82.0  3.9900    4  307     21.0   \n",
              "34  1.61282   0.0   8.14     0  0.538  6.096  96.9  3.7598    4  307     21.0   \n",
              "39  0.02763  75.0   2.95     0  0.428  6.595  21.8  5.4011    3  252     18.3   \n",
              "40  0.03359  75.0   2.95     0  0.428  7.024  15.8  5.4011    3  252     18.3   \n",
              "54  0.01360  75.0   4.00     0  0.410  5.888  47.6  7.3197    3  469     21.1   \n",
              "55  0.01311  90.0   1.22     0  0.403  7.249  21.9  8.6966    5  226     17.9   \n",
              "56  0.02055  85.0   0.74     0  0.410  6.383  35.7  9.1876    2  313     17.3   \n",
              "\n",
              "         b  lstat  medv  \n",
              "18  288.99  11.69  20.2  \n",
              "25  303.42  16.51  13.9  \n",
              "27  306.38  17.28  14.8  \n",
              "32  232.60  27.71  13.2  \n",
              "34  248.31  20.34  13.5  \n",
              "39  395.63   4.32  30.8  \n",
              "40  395.62   1.98  34.9  \n",
              "54  396.90  14.80  18.9  \n",
              "55  395.93   4.81  35.4  \n",
              "56  396.90   5.77  24.7  "
            ],
            "text/html": [
              "\n",
              "  <div id=\"df-414ef13a-9c7e-404a-90e7-d01d7f9475dd\">\n",
              "    <div class=\"colab-df-container\">\n",
              "      <div>\n",
              "<style scoped>\n",
              "    .dataframe tbody tr th:only-of-type {\n",
              "        vertical-align: middle;\n",
              "    }\n",
              "\n",
              "    .dataframe tbody tr th {\n",
              "        vertical-align: top;\n",
              "    }\n",
              "\n",
              "    .dataframe thead th {\n",
              "        text-align: right;\n",
              "    }\n",
              "</style>\n",
              "<table border=\"1\" class=\"dataframe\">\n",
              "  <thead>\n",
              "    <tr style=\"text-align: right;\">\n",
              "      <th></th>\n",
              "      <th>crim</th>\n",
              "      <th>zn</th>\n",
              "      <th>indus</th>\n",
              "      <th>chas</th>\n",
              "      <th>nox</th>\n",
              "      <th>rm</th>\n",
              "      <th>age</th>\n",
              "      <th>dis</th>\n",
              "      <th>rad</th>\n",
              "      <th>tax</th>\n",
              "      <th>ptratio</th>\n",
              "      <th>b</th>\n",
              "      <th>lstat</th>\n",
              "      <th>medv</th>\n",
              "    </tr>\n",
              "  </thead>\n",
              "  <tbody>\n",
              "    <tr>\n",
              "      <th>18</th>\n",
              "      <td>0.80271</td>\n",
              "      <td>0.0</td>\n",
              "      <td>8.14</td>\n",
              "      <td>0</td>\n",
              "      <td>0.538</td>\n",
              "      <td>5.456</td>\n",
              "      <td>36.6</td>\n",
              "      <td>3.7965</td>\n",
              "      <td>4</td>\n",
              "      <td>307</td>\n",
              "      <td>21.0</td>\n",
              "      <td>288.99</td>\n",
              "      <td>11.69</td>\n",
              "      <td>20.2</td>\n",
              "    </tr>\n",
              "    <tr>\n",
              "      <th>25</th>\n",
              "      <td>0.84054</td>\n",
              "      <td>0.0</td>\n",
              "      <td>8.14</td>\n",
              "      <td>0</td>\n",
              "      <td>0.538</td>\n",
              "      <td>5.599</td>\n",
              "      <td>85.7</td>\n",
              "      <td>4.4546</td>\n",
              "      <td>4</td>\n",
              "      <td>307</td>\n",
              "      <td>21.0</td>\n",
              "      <td>303.42</td>\n",
              "      <td>16.51</td>\n",
              "      <td>13.9</td>\n",
              "    </tr>\n",
              "    <tr>\n",
              "      <th>27</th>\n",
              "      <td>0.95577</td>\n",
              "      <td>0.0</td>\n",
              "      <td>8.14</td>\n",
              "      <td>0</td>\n",
              "      <td>0.538</td>\n",
              "      <td>6.047</td>\n",
              "      <td>88.8</td>\n",
              "      <td>4.4534</td>\n",
              "      <td>4</td>\n",
              "      <td>307</td>\n",
              "      <td>21.0</td>\n",
              "      <td>306.38</td>\n",
              "      <td>17.28</td>\n",
              "      <td>14.8</td>\n",
              "    </tr>\n",
              "    <tr>\n",
              "      <th>32</th>\n",
              "      <td>1.38799</td>\n",
              "      <td>0.0</td>\n",
              "      <td>8.14</td>\n",
              "      <td>0</td>\n",
              "      <td>0.538</td>\n",
              "      <td>5.950</td>\n",
              "      <td>82.0</td>\n",
              "      <td>3.9900</td>\n",
              "      <td>4</td>\n",
              "      <td>307</td>\n",
              "      <td>21.0</td>\n",
              "      <td>232.60</td>\n",
              "      <td>27.71</td>\n",
              "      <td>13.2</td>\n",
              "    </tr>\n",
              "    <tr>\n",
              "      <th>34</th>\n",
              "      <td>1.61282</td>\n",
              "      <td>0.0</td>\n",
              "      <td>8.14</td>\n",
              "      <td>0</td>\n",
              "      <td>0.538</td>\n",
              "      <td>6.096</td>\n",
              "      <td>96.9</td>\n",
              "      <td>3.7598</td>\n",
              "      <td>4</td>\n",
              "      <td>307</td>\n",
              "      <td>21.0</td>\n",
              "      <td>248.31</td>\n",
              "      <td>20.34</td>\n",
              "      <td>13.5</td>\n",
              "    </tr>\n",
              "    <tr>\n",
              "      <th>39</th>\n",
              "      <td>0.02763</td>\n",
              "      <td>75.0</td>\n",
              "      <td>2.95</td>\n",
              "      <td>0</td>\n",
              "      <td>0.428</td>\n",
              "      <td>6.595</td>\n",
              "      <td>21.8</td>\n",
              "      <td>5.4011</td>\n",
              "      <td>3</td>\n",
              "      <td>252</td>\n",
              "      <td>18.3</td>\n",
              "      <td>395.63</td>\n",
              "      <td>4.32</td>\n",
              "      <td>30.8</td>\n",
              "    </tr>\n",
              "    <tr>\n",
              "      <th>40</th>\n",
              "      <td>0.03359</td>\n",
              "      <td>75.0</td>\n",
              "      <td>2.95</td>\n",
              "      <td>0</td>\n",
              "      <td>0.428</td>\n",
              "      <td>7.024</td>\n",
              "      <td>15.8</td>\n",
              "      <td>5.4011</td>\n",
              "      <td>3</td>\n",
              "      <td>252</td>\n",
              "      <td>18.3</td>\n",
              "      <td>395.62</td>\n",
              "      <td>1.98</td>\n",
              "      <td>34.9</td>\n",
              "    </tr>\n",
              "    <tr>\n",
              "      <th>54</th>\n",
              "      <td>0.01360</td>\n",
              "      <td>75.0</td>\n",
              "      <td>4.00</td>\n",
              "      <td>0</td>\n",
              "      <td>0.410</td>\n",
              "      <td>5.888</td>\n",
              "      <td>47.6</td>\n",
              "      <td>7.3197</td>\n",
              "      <td>3</td>\n",
              "      <td>469</td>\n",
              "      <td>21.1</td>\n",
              "      <td>396.90</td>\n",
              "      <td>14.80</td>\n",
              "      <td>18.9</td>\n",
              "    </tr>\n",
              "    <tr>\n",
              "      <th>55</th>\n",
              "      <td>0.01311</td>\n",
              "      <td>90.0</td>\n",
              "      <td>1.22</td>\n",
              "      <td>0</td>\n",
              "      <td>0.403</td>\n",
              "      <td>7.249</td>\n",
              "      <td>21.9</td>\n",
              "      <td>8.6966</td>\n",
              "      <td>5</td>\n",
              "      <td>226</td>\n",
              "      <td>17.9</td>\n",
              "      <td>395.93</td>\n",
              "      <td>4.81</td>\n",
              "      <td>35.4</td>\n",
              "    </tr>\n",
              "    <tr>\n",
              "      <th>56</th>\n",
              "      <td>0.02055</td>\n",
              "      <td>85.0</td>\n",
              "      <td>0.74</td>\n",
              "      <td>0</td>\n",
              "      <td>0.410</td>\n",
              "      <td>6.383</td>\n",
              "      <td>35.7</td>\n",
              "      <td>9.1876</td>\n",
              "      <td>2</td>\n",
              "      <td>313</td>\n",
              "      <td>17.3</td>\n",
              "      <td>396.90</td>\n",
              "      <td>5.77</td>\n",
              "      <td>24.7</td>\n",
              "    </tr>\n",
              "  </tbody>\n",
              "</table>\n",
              "</div>\n",
              "      <button class=\"colab-df-convert\" onclick=\"convertToInteractive('df-414ef13a-9c7e-404a-90e7-d01d7f9475dd')\"\n",
              "              title=\"Convert this dataframe to an interactive table.\"\n",
              "              style=\"display:none;\">\n",
              "        \n",
              "  <svg xmlns=\"http://www.w3.org/2000/svg\" height=\"24px\"viewBox=\"0 0 24 24\"\n",
              "       width=\"24px\">\n",
              "    <path d=\"M0 0h24v24H0V0z\" fill=\"none\"/>\n",
              "    <path d=\"M18.56 5.44l.94 2.06.94-2.06 2.06-.94-2.06-.94-.94-2.06-.94 2.06-2.06.94zm-11 1L8.5 8.5l.94-2.06 2.06-.94-2.06-.94L8.5 2.5l-.94 2.06-2.06.94zm10 10l.94 2.06.94-2.06 2.06-.94-2.06-.94-.94-2.06-.94 2.06-2.06.94z\"/><path d=\"M17.41 7.96l-1.37-1.37c-.4-.4-.92-.59-1.43-.59-.52 0-1.04.2-1.43.59L10.3 9.45l-7.72 7.72c-.78.78-.78 2.05 0 2.83L4 21.41c.39.39.9.59 1.41.59.51 0 1.02-.2 1.41-.59l7.78-7.78 2.81-2.81c.8-.78.8-2.07 0-2.86zM5.41 20L4 18.59l7.72-7.72 1.47 1.35L5.41 20z\"/>\n",
              "  </svg>\n",
              "      </button>\n",
              "      \n",
              "  <style>\n",
              "    .colab-df-container {\n",
              "      display:flex;\n",
              "      flex-wrap:wrap;\n",
              "      gap: 12px;\n",
              "    }\n",
              "\n",
              "    .colab-df-convert {\n",
              "      background-color: #E8F0FE;\n",
              "      border: none;\n",
              "      border-radius: 50%;\n",
              "      cursor: pointer;\n",
              "      display: none;\n",
              "      fill: #1967D2;\n",
              "      height: 32px;\n",
              "      padding: 0 0 0 0;\n",
              "      width: 32px;\n",
              "    }\n",
              "\n",
              "    .colab-df-convert:hover {\n",
              "      background-color: #E2EBFA;\n",
              "      box-shadow: 0px 1px 2px rgba(60, 64, 67, 0.3), 0px 1px 3px 1px rgba(60, 64, 67, 0.15);\n",
              "      fill: #174EA6;\n",
              "    }\n",
              "\n",
              "    [theme=dark] .colab-df-convert {\n",
              "      background-color: #3B4455;\n",
              "      fill: #D2E3FC;\n",
              "    }\n",
              "\n",
              "    [theme=dark] .colab-df-convert:hover {\n",
              "      background-color: #434B5C;\n",
              "      box-shadow: 0px 1px 3px 1px rgba(0, 0, 0, 0.15);\n",
              "      filter: drop-shadow(0px 1px 2px rgba(0, 0, 0, 0.3));\n",
              "      fill: #FFFFFF;\n",
              "    }\n",
              "  </style>\n",
              "\n",
              "      <script>\n",
              "        const buttonEl =\n",
              "          document.querySelector('#df-414ef13a-9c7e-404a-90e7-d01d7f9475dd button.colab-df-convert');\n",
              "        buttonEl.style.display =\n",
              "          google.colab.kernel.accessAllowed ? 'block' : 'none';\n",
              "\n",
              "        async function convertToInteractive(key) {\n",
              "          const element = document.querySelector('#df-414ef13a-9c7e-404a-90e7-d01d7f9475dd');\n",
              "          const dataTable =\n",
              "            await google.colab.kernel.invokeFunction('convertToInteractive',\n",
              "                                                     [key], {});\n",
              "          if (!dataTable) return;\n",
              "\n",
              "          const docLinkHtml = 'Like what you see? Visit the ' +\n",
              "            '<a target=\"_blank\" href=https://colab.research.google.com/notebooks/data_table.ipynb>data table notebook</a>'\n",
              "            + ' to learn more about interactive tables.';\n",
              "          element.innerHTML = '';\n",
              "          dataTable['output_type'] = 'display_data';\n",
              "          await google.colab.output.renderOutput(dataTable, element);\n",
              "          const docLink = document.createElement('div');\n",
              "          docLink.innerHTML = docLinkHtml;\n",
              "          element.appendChild(docLink);\n",
              "        }\n",
              "      </script>\n",
              "    </div>\n",
              "  </div>\n",
              "  "
            ]
          },
          "metadata": {},
          "execution_count": 8
        }
      ]
    }
  ]
}